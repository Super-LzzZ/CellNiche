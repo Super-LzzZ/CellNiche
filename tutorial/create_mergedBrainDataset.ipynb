{
 "cells": [
  {
   "cell_type": "code",
   "execution_count": 1,
   "metadata": {},
   "outputs": [
    {
     "name": "stdout",
     "output_type": "stream",
     "text": [
      "c01\r\n"
     ]
    }
   ],
   "source": [
    "! hostname"
   ]
  },
  {
   "cell_type": "code",
   "execution_count": null,
   "metadata": {},
   "outputs": [],
   "source": [
    "import os\n",
    "import sys\n",
    "import scanpy as sc\n",
    "import squidpy as sq\n",
    "import numpy as np\n",
    "import pandas as pd\n",
    "import torch\n",
    "from anndata import AnnData\n",
    "import anndata\n",
    "import seaborn as sns\n",
    "import matplotlib.pyplot as plt\n",
    "import anndata as ad\n",
    "\n",
    "from sklearn import metrics\n",
    "import multiprocessing as mp\n",
    "from sklearn.decomposition import PCA\n",
    "from sklearn.cluster import KMeans\n",
    "\n",
    "import scipy.sparse as sp\n",
    "import scipy.linalg"
   ]
  },
  {
   "cell_type": "code",
   "execution_count": null,
   "metadata": {},
   "outputs": [],
   "source": [
    "import warnings\n",
    "warnings.filterwarnings(\"ignore\")"
   ]
  },
  {
   "cell_type": "code",
   "execution_count": null,
   "metadata": {},
   "outputs": [],
   "source": [
    "import scanpy as sc\n",
    "import os\n",
    "import random\n",
    "\n",
    "def format_gene_names(genes):\n",
    "    return {gene.upper() if len(gene) == 1 else gene[0].upper() + gene[1:].lower() for gene in genes}\n",
    "\n",
    "atlas_dirs = [\n",
    "    '/share/home/liangzhongming/phd_code/530/CellNiche/data/Atlas1',\n",
    "    '/share/home/liangzhongming/phd_code/530/CellNiche/data/Atlas2',\n",
    "    '/share/home/liangzhongming/phd_code/530/CellNiche/data/Atlas3',\n",
    "    '/share/home/liangzhongming/phd_code/530/CellNiche/data/Atlas4'\n",
    "]\n",
    "target_files = {\n",
    "    'well11_cellTypt.h5ad', \n",
    "    'C57BL6J-638850.38.h5ad', \n",
    "    'Zhuang-ABCA-1.079.h5ad', \n",
    "    'S2R1_cellTypt.h5ad'\n",
    "}\n",
    "\n",
    "selected_files = {}\n",
    "for atlas_dir in atlas_dirs:\n",
    "    h5ad_files = [f for f in os.listdir(atlas_dir) if f.endswith('.h5ad')]\n",
    "    \n",
    "#     # way1: sampled\n",
    "#     if len(h5ad_files) <= 10:\n",
    "#         selected_files[atlas_dir] = h5ad_files\n",
    "#     else:\n",
    "#         selected_files[atlas_dir] = random.sample(h5ad_files, 300)\n",
    "    \n",
    "    # way2: all\n",
    "    selected_files[atlas_dir] = h5ad_files\n",
    "    \n",
    "#     # way3: 4 slice\n",
    "#     matched = [f for f in h5ad_files if os.path.basename(f) in target_files]\n",
    "#     if matched:\n",
    "#         selected_files[atlas_dir] = matched\n",
    "    \n",
    "print(selected_files.items())\n",
    "\n",
    "adata_list = []\n",
    "section_ids = []\n",
    "\n",
    "for atlas_dir, files in selected_files.items():\n",
    "    for file in files:\n",
    "        sample = sc.read(os.path.join(atlas_dir, file))\n",
    "        if 'Atlas1' in atlas_dir:\n",
    "            sample.var_names = format_gene_names(sample.var_names)\n",
    "            \n",
    "        sample.obs.rename(columns={\n",
    "            'class_name': 'class',\n",
    "            'subclass_name': 'subclass',\n",
    "            'supertype_name': 'supertype',\n",
    "            'cluster_name': 'cluster',\n",
    "            'center_x': 'x', \n",
    "            'center_y': 'y', \n",
    "            'X': 'x', \n",
    "            'Y': 'y', \n",
    "            'Z': 'z'\n",
    "        }, inplace=True)\n",
    "        \n",
    "        if 'supertype_bootstrapping_probability' in sample.obs.columns and 'subclass_bootstrapping_probability' in sample.obs.columns:\n",
    "            sample = sample[sample.obs['supertype_bootstrapping_probability'] >= 0.5]\n",
    "            sample = sample[sample.obs['subclass_bootstrapping_probability'] >= 0.5]\n",
    "        \n",
    "        if 'spatial' not in sample.obsm:\n",
    "            sample.obsm['spatial'] = sample.obs[['x', 'y']].astype(float).to_numpy()\n",
    "        \n",
    "        sample.obs['atlas'] = atlas_dir.split('/')[-1]\n",
    "        sample.obs['slice_id'] = file.replace('.h5ad', '')\n",
    "        \n",
    "        adata_list.append(sample)\n",
    "        section_ids.append(f\"{atlas_dir.split('/')[-1]}_{file.replace('.h5ad', '')}\")\n",
    "\n",
    "adata_concat = sc.concat(\n",
    "    adata_list, \n",
    "    label=\"sample\",\n",
    "    keys=section_ids,\n",
    "    join='outer', # inner\n",
    "    index_unique='-' \n",
    ")"
   ]
  }
 ],
 "metadata": {
  "kernelspec": {
   "display_name": "cellniche",
   "language": "python",
   "name": "cellniche"
  },
  "language_info": {
   "codemirror_mode": {
    "name": "ipython",
    "version": 3
   },
   "file_extension": ".py",
   "mimetype": "text/x-python",
   "name": "python",
   "nbconvert_exporter": "python",
   "pygments_lexer": "ipython3",
   "version": "3.9.21"
  }
 },
 "nbformat": 4,
 "nbformat_minor": 2
}
